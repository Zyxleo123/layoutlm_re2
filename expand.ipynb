{
 "cells": [
  {
   "cell_type": "code",
   "execution_count": null,
   "metadata": {},
   "outputs": [],
   "source": [
    "import torch\n",
    "def expand(st_dict, new_path):\n",
    "    st_dict['layoutlmv3.embeddings.position_ids'] = torch.cat(\n",
    "        (st_dict['layoutlmv3.embeddings.position_ids'], st_dict['layoutlmv3.embeddings.position_ids'])\n",
    "        , dim=1)\n",
    "    st_dict['layoutlmv3.embeddings.position_embeddings.weight'] = torch.cat(\n",
    "        (st_dict['layoutlmv3.embeddings.position_embeddings.weight'], st_dict['layoutlmv3.embeddings.position_embeddings.weight'])\n",
    "        , dim=0)\n",
    "    print(\"expand position_ids to \", st_dict['layoutlmv3.embeddings.position_ids'].shape)\n",
    "    print(\"expand position_embeddings.weight to \", st_dict['layoutlmv3.embeddings.position_embeddings.weight'].shape)\n",
    "    for k in list(st_dict.keys()):\n",
    "        if k.endswith('lam'):\n",
    "            st_dict.pop(k)\n",
    "            print(\"pop \", k)\n",
    "    torch.save(st_dict, new_path)\n",
    "\n",
    "def expand_truncate(st_dict, new_path):\n",
    "    st_dict['layoutlmv3.embeddings.position_ids'] = torch.cat(\n",
    "        (st_dict['layoutlmv3.embeddings.position_ids'], st_dict['layoutlmv3.embeddings.position_ids'])\n",
    "        , dim=1)\n",
    "    st_dict['layoutlmv3.embeddings.position_embeddings.weight'] = torch.cat(\n",
    "        (st_dict['layoutlmv3.embeddings.position_embeddings.weight'], st_dict['layoutlmv3.embeddings.position_embeddings.weight'])\n",
    "        , dim=0)\n",
    "    print(\"expand position_ids to \", st_dict['layoutlmv3.embeddings.position_ids'].shape)\n",
    "    print(\"expand position_embeddings.weight to \", st_dict['layoutlmv3.embeddings.position_embeddings.weight'].shape)\n",
    "    for k in list(st_dict.keys()):\n",
    "        if k.startswith('classifier.') or k.endswith('lam'):\n",
    "            st_dict.pop(k)\n",
    "            print(\"pop \", k)\n",
    "    torch.save(st_dict, new_path)\n",
    "\n",
    "def expand_three_times_truncate(st_dict, new_path):\n",
    "    st_dict['layoutlmv3.embeddings.position_ids'] = torch.cat(\n",
    "        (st_dict['layoutlmv3.embeddings.position_ids'],\n",
    "         st_dict['layoutlmv3.embeddings.position_ids'],\n",
    "         st_dict['layoutlmv3.embeddings.position_ids'])\n",
    "        , dim=1)\n",
    "    st_dict['layoutlmv3.embeddings.position_embeddings.weight'] = torch.cat(\n",
    "        (st_dict['layoutlmv3.embeddings.position_embeddings.weight'],\n",
    "         st_dict['layoutlmv3.embeddings.position_embeddings.weight'],\n",
    "         st_dict['layoutlmv3.embeddings.position_embeddings.weight'])\n",
    "        , dim=0)\n",
    "    d = ['x', 'y', 'w', 'h']\n",
    "    for dd in d: \n",
    "        st_dict[f'layoutlmv3.embeddings.{dd}_position_embeddings.weight'] = torch.cat(\n",
    "            (st_dict[f'layoutlmv3.embeddings.{dd}_position_embeddings.weight'], \n",
    "             st_dict[f'layoutlmv3.embeddings.{dd}_position_embeddings.weight'])\n",
    "            , dim=0)\n",
    "    print(\"expand position_ids to \", st_dict['layoutlmv3.embeddings.position_ids'].shape)\n",
    "    print(\"expand position_embeddings.weight to \", st_dict['layoutlmv3.embeddings.position_embeddings.weight'].shape)\n",
    "    print(\"expand x_position_embeddings.weight to \", st_dict['layoutlmv3.embeddings.x_position_embeddings.weight'].shape)\n",
    "    print(\"expand y_position_embeddings.weight to \", st_dict['layoutlmv3.embeddings.y_position_embeddings.weight'].shape)\n",
    "    print(\"expand w_position_embeddings.weight to \", st_dict['layoutlmv3.embeddings.w_position_embeddings.weight'].shape)\n",
    "    print(\"expand h_position_embeddings.weight to \", st_dict['layoutlmv3.embeddings.h_position_embeddings.weight'].shape)\n",
    "    for k in list(st_dict.keys()):\n",
    "        if k.startswith('classifier.') or k.endswith('lam'):\n",
    "            st_dict.pop(k)\n",
    "            print(\"pop \", k)\n",
    "    torch.save(st_dict, new_path)"
   ]
  },
  {
   "cell_type": "code",
   "execution_count": null,
   "metadata": {},
   "outputs": [],
   "source": [
    "from layoutlmft.models.layoutlmv3.modeling_layoutlmv3 import LayoutLMv3ForRelationExtraction, LayoutLMv3ForTokenClassification\n",
    "# model_ft = LayoutLMv3ForTokenClassification.from_pretrained(\n",
    "#     \"HYPJUDY/layoutlmv3-large-finetuned-funsd\"\n",
    "# )"
   ]
  },
  {
   "cell_type": "code",
   "execution_count": null,
   "metadata": {},
   "outputs": [],
   "source": [
    "# re_pretrain = LayoutLMv3ForRelationExtraction.from_pretrained(\n",
    "#     \"microsoft/layoutlmv3-large\"\n",
    "# )\n",
    "ner_pretrain = LayoutLMv3ForTokenClassification.from_pretrained(\n",
    "    \"microsoft/layoutlmv3-large\"\n",
    ")"
   ]
  },
  {
   "cell_type": "code",
   "execution_count": null,
   "metadata": {},
   "outputs": [],
   "source": [
    "ner_st_dict = ner_pretrain.state_dict()\n",
    "expand_truncate(ner_st_dict, \"layoutlmv3-large-ner-1028/pytorch_model.bin\")"
   ]
  },
  {
   "cell_type": "code",
   "execution_count": null,
   "metadata": {},
   "outputs": [],
   "source": [
    "ner_st_dict = ner_pretrain.state_dict()\n",
    "expand_three_times_truncate(ner_st_dict, \"layoutlmv3-large-ner-1542/pytorch_model.bin\")"
   ]
  },
  {
   "cell_type": "code",
   "execution_count": null,
   "metadata": {},
   "outputs": [],
   "source": [
    "from layoutlmft.models.layoutlmv3.modeling_layoutlmv3 import LayoutLMv3ForTokenClassification\n",
    "model_from_path = LayoutLMv3ForTokenClassification.from_pretrained(\n",
    "    \"layoutlmv3-base-2048\",\n",
    "    # num_labels=2\n",
    ")\n"
   ]
  },
  {
   "cell_type": "code",
   "execution_count": null,
   "metadata": {},
   "outputs": [],
   "source": [
    "for k, v in model_from_path.state_dict().items():\n",
    "    print(k, v.shape)"
   ]
  },
  {
   "cell_type": "markdown",
   "metadata": {},
   "source": []
  },
  {
   "cell_type": "code",
   "execution_count": 5,
   "metadata": {},
   "outputs": [
    {
     "data": {
      "text/plain": [
       "True"
      ]
     },
     "execution_count": 5,
     "metadata": {},
     "output_type": "execute_result"
    }
   ],
   "source": [
    "import torch\n",
    "torch.cuda.is_available()"
   ]
  },
  {
   "cell_type": "code",
   "execution_count": null,
   "metadata": {},
   "outputs": [],
   "source": []
  }
 ],
 "metadata": {
  "kernelspec": {
   "display_name": "Python 3",
   "language": "python",
   "name": "python3"
  },
  "language_info": {
   "codemirror_mode": {
    "name": "ipython",
    "version": 3
   },
   "file_extension": ".py",
   "mimetype": "text/x-python",
   "name": "python",
   "nbconvert_exporter": "python",
   "pygments_lexer": "ipython3",
   "version": "3.8.18"
  }
 },
 "nbformat": 4,
 "nbformat_minor": 2
}
